{
 "cells": [
  {
   "cell_type": "code",
   "execution_count": 2,
   "id": "8f846757",
   "metadata": {},
   "outputs": [
    {
     "name": "stdout",
     "output_type": "stream",
     "text": [
      "500\n",
      "Data Type of variable num is <class 'int'>\n",
      "75.34\n",
      "Data Type of variable fnum is <class 'float'>\n",
      "(7+3j)\n",
      "Data Type of variable cmun is <class 'complex'>\n"
     ]
    }
   ],
   "source": [
    "# interger number\n",
    "num = 500\n",
    "print(num)\n",
    "print(\"Data Type of variable num is\", type(num))\n",
    "\n",
    "# float number \n",
    "fnum = 75.34\n",
    "print(fnum)\n",
    "print(\"Data Type of variable fnum is\", type(fnum))\n",
    "\n",
    "# complex number \n",
    "cnum = 7 + 3j\n",
    "print(cnum)\n",
    "print(\"Data Type of variable cmun is\", type(cnum))"
   ]
  },
  {
   "cell_type": "code",
   "execution_count": 3,
   "id": "f454786c",
   "metadata": {},
   "outputs": [
    {
     "name": "stdout",
     "output_type": "stream",
     "text": [
      "Wassup, im Tito.  I am String\n",
      "<class 'str'>\n",
      "Hi my name is Ogbechi. I am also a String\n",
      "<class 'str'>\n"
     ]
    }
   ],
   "source": [
    "# Python program to print strings and type\n",
    "str1 = \"Wassup, im Tito.  I am String\"\n",
    "str2 = \"Hi my name is Ogbechi. I am also a String\"\n",
    "\n",
    "# displaying string str1 and its type\n",
    "print(str1)\n",
    "print(type(str1))\n",
    "\n",
    "# displaying string str2 and its type\n",
    "print(str2)\n",
    "print(type(str2))"
   ]
  },
  {
   "cell_type": "code",
   "execution_count": null,
   "id": "50bff2b3",
   "metadata": {},
   "outputs": [],
   "source": []
  }
 ],
 "metadata": {
  "kernelspec": {
   "display_name": "Python 3 (ipykernel)",
   "language": "python",
   "name": "python3"
  },
  "language_info": {
   "codemirror_mode": {
    "name": "ipython",
    "version": 3
   },
   "file_extension": ".py",
   "mimetype": "text/x-python",
   "name": "python",
   "nbconvert_exporter": "python",
   "pygments_lexer": "ipython3",
   "version": "3.10.9"
  }
 },
 "nbformat": 4,
 "nbformat_minor": 5
}
