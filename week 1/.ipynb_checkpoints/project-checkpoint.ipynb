{
 "cells": [
  {
   "cell_type": "markdown",
   "id": "872224d6",
   "metadata": {},
   "source": [
    "##### Simple Interest\n",
    "principal = int(input(\"Enter a principal: \"))\n",
    "rate = int(input(\"Enter enter a rate: \"))\n",
    "time = int(input(\" Enter a time range: \"))\n",
    "\n",
    "simple_interest  = principal * (1 + rate/100 * time) \n",
    "print(simple_interest)\n"
   ]
  },
  {
   "cell_type": "code",
   "execution_count": 2,
   "id": "c663aebb",
   "metadata": {},
   "outputs": [
    {
     "name": "stdout",
     "output_type": "stream",
     "text": [
      "Please a principal: 600\n",
      "Please enter a rate: 4\n",
      "please enter a time range: 2\n",
      "648.0\n"
     ]
    }
   ],
   "source": [
    "# Simple Interest\n",
    "principal = int(input(\"Please a principal: \"))\n",
    "rate = int(input(\"Please enter a rate: \"))\n",
    "time = int(input(\"please enter a time range: \"))\n",
    "\n",
    "simple_interest  = principal * (1 + rate/100 * time) \n",
    "print(simple_interest)"
   ]
  },
  {
   "cell_type": "code",
   "execution_count": 4,
   "id": "3ce0a2f4",
   "metadata": {},
   "outputs": [
    {
     "name": "stdout",
     "output_type": "stream",
     "text": [
      "Enter a principal: 500\n",
      "Enter a rate: 4\n",
      "Enter a time range: 3\n",
      "Enter no of year: 3\n",
      "1025087.8168978295\n"
     ]
    }
   ],
   "source": [
    "# Compound Interest\n",
    "principal = int(input(\"Enter a principal: \"))\n",
    "rate = int(input(\"Enter a rate: \"))\n",
    "time = int(input(\"Enter a time range: \"))\n",
    "no_of_yr = int(input(\"Enter no of year: \"))\n",
    "\n",
    "compund_interest = principal * (1 + rate/no_of_yr) ** (no_of_yr * time)\n",
    "print(compund_interest)"
   ]
  },
  {
   "cell_type": "code",
   "execution_count": 5,
   "id": "bd3c952b",
   "metadata": {},
   "outputs": [
    {
     "name": "stdout",
     "output_type": "stream",
     "text": [
      "enter a payment: 5000\n",
      "enter a rate: 4\n",
      "enter a time range: 4\n",
      "enter no of year: 4\n",
      "20479687.5\n"
     ]
    }
   ],
   "source": [
    "# Annuity Plan\n",
    "payment = int(input(\"enter a payment: \"))\n",
    "rate = int(input(\"enter a rate: \"))\n",
    "time = int(input(\"enter a time range: \"))\n",
    "no_of_yr = int(input(\"enter no of year: \"))\n",
    "\n",
    "annuity_plan = payment * ((1 + rate/no_of_yr) ** (no_of_yr * time) - 1)/rate/no_of_yr\n",
    "print(annuity_plan)"
   ]
  },
  {
   "cell_type": "code",
   "execution_count": null,
   "id": "2e6dec5e",
   "metadata": {},
   "outputs": [],
   "source": []
  }
 ],
 "metadata": {
  "kernelspec": {
   "display_name": "Python 3 (ipykernel)",
   "language": "python",
   "name": "python3"
  },
  "language_info": {
   "codemirror_mode": {
    "name": "ipython",
    "version": 3
   },
   "file_extension": ".py",
   "mimetype": "text/x-python",
   "name": "python",
   "nbconvert_exporter": "python",
   "pygments_lexer": "ipython3",
   "version": "3.10.9"
  }
 },
 "nbformat": 4,
 "nbformat_minor": 5
}
