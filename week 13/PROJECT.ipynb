{
 "cells": [
  {
   "cell_type": "code",
   "execution_count": 1,
   "id": "ebe793a1",
   "metadata": {},
   "outputs": [
    {
     "name": "stdout",
     "output_type": "stream",
     "text": [
      "Enter your name: Tito\n",
      "Enter your matriculation number: 22120976756\n",
      "Enter your department: Computer Science\n",
      "Enter your level: 100\n",
      "   Name    Matric.No        Department Level\n",
      "0  Tito  22120976756  Computer Science   100\n"
     ]
    }
   ],
   "source": [
    "import pandas as pd\n",
    "class PAU_SIMS : \n",
    "\n",
    "    name = input(\"Enter your name: \")\n",
    "    matric_no = input(\"Enter your matriculation number: \")\n",
    "    dept = input(\"Enter your department: \")\n",
    "    level = input(\"Enter your level: \")\n",
    "\n",
    "\n",
    "    record = {\"Name\" : [name],\n",
    "              \"Matric.No\" : [matric_no] ,\n",
    "              \"Department\" : [dept],\n",
    "              \"Level\" : [level]}\n",
    "\n",
    "    df = pd.DataFrame(record)\n",
    "    df.to_csv('SIMS.csv')\n",
    "  \n",
    "    print(df)        "
   ]
  },
  {
   "cell_type": "code",
   "execution_count": 12,
   "id": "ab781b8b",
   "metadata": {},
   "outputs": [
    {
     "data": {
      "text/html": [
       "<div>\n",
       "<style scoped>\n",
       "    .dataframe tbody tr th:only-of-type {\n",
       "        vertical-align: middle;\n",
       "    }\n",
       "\n",
       "    .dataframe tbody tr th {\n",
       "        vertical-align: top;\n",
       "    }\n",
       "\n",
       "    .dataframe thead th {\n",
       "        text-align: right;\n",
       "    }\n",
       "</style>\n",
       "<table border=\"1\" class=\"dataframe\">\n",
       "  <thead>\n",
       "    <tr style=\"text-align: right;\">\n",
       "      <th></th>\n",
       "      <th>Company</th>\n",
       "      <th>Founded</th>\n",
       "      <th>Assests</th>\n",
       "      <th>Liabilities</th>\n",
       "      <th>Percentage Leverages (%)</th>\n",
       "    </tr>\n",
       "  </thead>\n",
       "  <tbody>\n",
       "    <tr>\n",
       "      <th>0</th>\n",
       "      <td>Enron</td>\n",
       "      <td>1987</td>\n",
       "      <td>1000000</td>\n",
       "      <td>200000</td>\n",
       "      <td>62</td>\n",
       "    </tr>\n",
       "    <tr>\n",
       "      <th>1</th>\n",
       "      <td>Anderson</td>\n",
       "      <td>1936</td>\n",
       "      <td>1500000</td>\n",
       "      <td>500000</td>\n",
       "      <td>62</td>\n",
       "    </tr>\n",
       "    <tr>\n",
       "      <th>2</th>\n",
       "      <td>GK Jones</td>\n",
       "      <td>2001</td>\n",
       "      <td>3000000</td>\n",
       "      <td>1500000</td>\n",
       "      <td>62</td>\n",
       "    </tr>\n",
       "    <tr>\n",
       "      <th>3</th>\n",
       "      <td>Mica</td>\n",
       "      <td>1996</td>\n",
       "      <td>250000</td>\n",
       "      <td>50000</td>\n",
       "      <td>62</td>\n",
       "    </tr>\n",
       "    <tr>\n",
       "      <th>4</th>\n",
       "      <td>Dune</td>\n",
       "      <td>2008</td>\n",
       "      <td>800000</td>\n",
       "      <td>300000</td>\n",
       "      <td>62</td>\n",
       "    </tr>\n",
       "  </tbody>\n",
       "</table>\n",
       "</div>"
      ],
      "text/plain": [
       "    Company Founded  Assests  Liabilities  Percentage Leverages (%)\n",
       "0     Enron    1987  1000000       200000                        62\n",
       "1  Anderson    1936  1500000       500000                        62\n",
       "2  GK Jones    2001  3000000      1500000                        62\n",
       "3      Mica    1996   250000        50000                        62\n",
       "4      Dune    2008   800000       300000                        62"
      ]
     },
     "execution_count": 12,
     "metadata": {},
     "output_type": "execute_result"
    }
   ],
   "source": [
    "import pandas as pd\n",
    "\n",
    "assests = [1000000, 1500000, 3000000, 250000, 800000]\n",
    "liabilities = [200000, 500000, 1500000, 50000, 300000]\n",
    "percentage_leverage_list = []\n",
    "\n",
    "for i in range(5):\n",
    "    pl = (assests[i] - liabilities[i]) / (assests[i]) * 100\n",
    "    pl = round(percentage_leverage)\n",
    "    percentage_leverage_list.append(percentage_leverage)\n",
    "    \n",
    "df =   pd.DataFrame({\"Company\" : [\"Enron\", \"Anderson\", \"GK Jones\", \"Mica\", \"Dune\"],\n",
    "                     \"Founded\": [\"1987\", \"1936\", \"2001\", \"1996\", \"2008\"],\n",
    "                     \"Assests\": [1000000, 1500000, 3000000, 250000, 800000],\n",
    "                     \"Liabilities\": [200000, 500000, 1500000, 50000, 300000],\n",
    "                     \"Percentage Leverages (%)\": [a for a in percentage_leverage_list]\n",
    "                    })\n",
    "\n",
    "df.to_csv(\"Company.csv\")\n",
    "df"
   ]
  },
  {
   "cell_type": "code",
   "execution_count": null,
   "id": "f1472ef0",
   "metadata": {},
   "outputs": [],
   "source": []
  }
 ],
 "metadata": {
  "kernelspec": {
   "display_name": "Python 3 (ipykernel)",
   "language": "python",
   "name": "python3"
  },
  "language_info": {
   "codemirror_mode": {
    "name": "ipython",
    "version": 3
   },
   "file_extension": ".py",
   "mimetype": "text/x-python",
   "name": "python",
   "nbconvert_exporter": "python",
   "pygments_lexer": "ipython3",
   "version": "3.10.9"
  }
 },
 "nbformat": 4,
 "nbformat_minor": 5
}
