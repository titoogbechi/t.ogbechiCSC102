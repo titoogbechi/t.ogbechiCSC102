{
 "cells": [
  {
   "cell_type": "code",
   "execution_count": 10,
   "id": "47f01ffd",
   "metadata": {},
   "outputs": [
    {
     "name": "stdout",
     "output_type": "stream",
     "text": [
      "Enter a: 666\n",
      "Enter b: 4\n",
      "Enter c: 7\n",
      "The solution are (-0.003003003003003003-0.10247678997448381j) and (-0.003003003003003003+0.10247678997448381j)\n"
     ]
    }
   ],
   "source": [
    "\n",
    "import cmath\n",
    "\n",
    "# quadratic\n",
    "\n",
    "a = float(input('Enter a: '))  \n",
    "b = float(input('Enter b: '))  \n",
    "c = float(input('Enter c: '))  \n",
    "    \n",
    "discriminant = (b**2) - (4*a*c)  \n",
    "    \n",
    "ans1 = (-b-cmath.sqrt(discriminant))/(2*a)  \n",
    "ans2 = (-b+cmath.sqrt(discriminant))/(2*a)  \n",
    "print(f\"The solution are {ans1} and {ans2}\")   "
   ]
  },
  {
   "cell_type": "code",
   "execution_count": null,
   "id": "7ee8a4ba",
   "metadata": {},
   "outputs": [],
   "source": []
  }
 ],
 "metadata": {
  "kernelspec": {
   "display_name": "Python 3 (ipykernel)",
   "language": "python",
   "name": "python3"
  },
  "language_info": {
   "codemirror_mode": {
    "name": "ipython",
    "version": 3
   },
   "file_extension": ".py",
   "mimetype": "text/x-python",
   "name": "python",
   "nbconvert_exporter": "python",
   "pygments_lexer": "ipython3",
   "version": "3.10.9"
  }
 },
 "nbformat": 4,
 "nbformat_minor": 5
}
