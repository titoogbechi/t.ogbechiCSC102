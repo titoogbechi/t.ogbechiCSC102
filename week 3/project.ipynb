{
 "cells": [
  {
   "cell_type": "code",
   "execution_count": 8,
   "id": "0790b60a",
   "metadata": {},
   "outputs": [
    {
     "name": "stdout",
     "output_type": "stream",
     "text": [
      "Enter a value for a: 77\n",
      "Enter a value for b: 8\n",
      "Enter a value for c: 5\n",
      "Enter a: 4\n",
      "Enter b: 4\n",
      "Enter c: 4\n"
     ]
    },
    {
     "ename": "NameError",
     "evalue": "name 'disc' is not defined",
     "output_type": "error",
     "traceback": [
      "\u001b[1;31m---------------------------------------------------------------------------\u001b[0m",
      "\u001b[1;31mNameError\u001b[0m                                 Traceback (most recent call last)",
      "Cell \u001b[1;32mIn[8], line 19\u001b[0m\n\u001b[0;32m     15\u001b[0m c \u001b[38;5;241m=\u001b[39m \u001b[38;5;28mfloat\u001b[39m(\u001b[38;5;28minput\u001b[39m(\u001b[38;5;124m'\u001b[39m\u001b[38;5;124mEnter c: \u001b[39m\u001b[38;5;124m'\u001b[39m))  \n\u001b[0;32m     17\u001b[0m discriminant \u001b[38;5;241m=\u001b[39m (b\u001b[38;5;241m*\u001b[39m\u001b[38;5;241m*\u001b[39m\u001b[38;5;241m2\u001b[39m) \u001b[38;5;241m-\u001b[39m (\u001b[38;5;241m4\u001b[39m\u001b[38;5;241m*\u001b[39ma\u001b[38;5;241m*\u001b[39mc)  \n\u001b[1;32m---> 19\u001b[0m ans1 \u001b[38;5;241m=\u001b[39m (\u001b[38;5;241m-\u001b[39mb\u001b[38;5;241m-\u001b[39mcmath\u001b[38;5;241m.\u001b[39msqrt(\u001b[43mdisc\u001b[49m))\u001b[38;5;241m/\u001b[39m(\u001b[38;5;241m2\u001b[39m\u001b[38;5;241m*\u001b[39ma)  \n\u001b[0;32m     20\u001b[0m ans2 \u001b[38;5;241m=\u001b[39m (\u001b[38;5;241m-\u001b[39mb\u001b[38;5;241m+\u001b[39mcmath\u001b[38;5;241m.\u001b[39msqrt(disc))\u001b[38;5;241m/\u001b[39m(\u001b[38;5;241m2\u001b[39m\u001b[38;5;241m*\u001b[39ma)  \n\u001b[0;32m     21\u001b[0m \u001b[38;5;28mprint\u001b[39m(\u001b[38;5;124mf\u001b[39m\u001b[38;5;124m\"\u001b[39m\u001b[38;5;124mThe solution are \u001b[39m\u001b[38;5;132;01m{\u001b[39;00mans1\u001b[38;5;132;01m}\u001b[39;00m\u001b[38;5;124m and \u001b[39m\u001b[38;5;132;01m{\u001b[39;00mans2\u001b[38;5;132;01m}\u001b[39;00m\u001b[38;5;124m\"\u001b[39m)\n",
      "\u001b[1;31mNameError\u001b[0m: name 'disc' is not defined"
     ]
    }
   ],
   "source": [
    "from math import sqrt\n",
    "\n",
    "a = int(input(\"Enter a value for a: \"))\n",
    "b = int(input(\"Enter a value for b: \"))\n",
    "c = int(input(\"Enter a value for c: \"))\n",
    "\n",
    "\n",
    "\n",
    "import cmath\n",
    "\n",
    "# quadratic\n",
    "\n",
    "a = float(input('Enter a: '))  \n",
    "b = float(input('Enter b: '))  \n",
    "c = float(input('Enter c: '))  \n",
    "    \n",
    "discriminant = (b**2) - (4*a*c)  \n",
    "    \n",
    "ans1 = (-b-cmath.sqrt(disc))/(2*a)  \n",
    "ans2 = (-b+cmath.sqrt(disc))/(2*a)  \n",
    "print(f\"The solution are {ans1} and {ans2}\")   "
   ]
  },
  {
   "cell_type": "code",
   "execution_count": null,
   "id": "729411c0",
   "metadata": {},
   "outputs": [],
   "source": []
  }
 ],
 "metadata": {
  "kernelspec": {
   "display_name": "Python 3 (ipykernel)",
   "language": "python",
   "name": "python3"
  },
  "language_info": {
   "codemirror_mode": {
    "name": "ipython",
    "version": 3
   },
   "file_extension": ".py",
   "mimetype": "text/x-python",
   "name": "python",
   "nbconvert_exporter": "python",
   "pygments_lexer": "ipython3",
   "version": "3.10.9"
  }
 },
 "nbformat": 4,
 "nbformat_minor": 5
}
