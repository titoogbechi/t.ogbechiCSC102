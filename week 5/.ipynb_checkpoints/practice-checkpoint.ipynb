{
 "cells": [
  {
   "cell_type": "code",
   "execution_count": 1,
   "id": "cac73698",
   "metadata": {},
   "outputs": [
    {
     "name": "stdout",
     "output_type": "stream",
     "text": [
      "Enter the name of City 1 : Lagos\n",
      "Enter the name of City 2 : Abuja\n",
      "The name of city 1 after swapping is Abuja\n",
      "The name of city 2 after swapping is Lagos\n"
     ]
    }
   ],
   "source": [
    "# Python program to swap two cities\n",
    "\n",
    "# To take inputs from the user\n",
    "city_1 = input(\"Enter the name of City 1 : \")\n",
    "city_2 = input(\"Enter the name of City 2 : \")\n",
    "\n",
    "# Create a temporary variable and swap the cities \n",
    "temp = city_1\n",
    "city_1 = city_2\n",
    "city_2 = temp\n",
    "\n",
    "print (f\"The name of city 1 after swapping is {city_1}\")\n",
    "print (f\"The name of city 2 after swapping is {city_2}\")"
   ]
  },
  {
   "cell_type": "code",
   "execution_count": 2,
   "id": "cceca519",
   "metadata": {},
   "outputs": [
    {
     "name": "stdout",
     "output_type": "stream",
     "text": [
      "Enter a Number: 555\n",
      "Positive number\n"
     ]
    }
   ],
   "source": [
    "# Program to Check if a number is positive negative or 0 \n",
    "\n",
    "num = float(input(\"Enter a Number: \"))\n",
    "if num>0:\n",
    "    print (\"Positive number\")\n",
    "elif num == 0 :\n",
    "    print (\"Zero\")\n",
    "else : \n",
    "    print (\"Negative number\")\n"
   ]
  },
  {
   "cell_type": "code",
   "execution_count": 3,
   "id": "240d2574",
   "metadata": {},
   "outputs": [
    {
     "name": "stdout",
     "output_type": "stream",
     "text": [
      "Welcome to the COUPE DE ESCRIVA 2023: FOOTBALL PICKS \n",
      "\n",
      "Madiba:  Chubby Obiora-Okafo\n",
      "Bluejays:  Christopher Uweh\n",
      "Cirok:  Alexander\n",
      "TSG WALKERS:  Ikechukwu\n",
      "\n",
      "\n",
      "Madiba:  Chubby Obiora-Okafo\n",
      "Bluejays:  Oladimeji Abanniwonda/Jeffery Awagu\n",
      "Cirok:  Timileyin Pearse/Izuako Jeremy\n",
      "TSG WALKERS:  Ayomide Ojikutu\n"
     ]
    }
   ],
   "source": [
    "# COUPE DE ESCRIVA 2023: FOOTBALL PICKS\n",
    "\n",
    "print (\"Welcome to the COUPE DE ESCRIVA 2023: FOOTBALL PICKS \\n\")\n",
    "captain = {'Madiba: ': 'Chubby Obiora-Okafo', 'Bluejays: ':'Christopher Uweh',\n",
    "           'Cirok: ':'Alexander', 'TSG WALKERS: ': 'Ikechukwu' }\n",
    "goalkeepers = {'Madiba: ': 'Chubby Obiora-Okafo', 'Bluejays: ':'Oladimeji Abanniwonda/Jeffery Awagu',\n",
    "           'Cirok: ':'Timileyin Pearse/Izuako Jeremy', 'TSG WALKERS: ': 'Ayomide Ojikutu'}\n",
    "\n",
    "for pick in captain : \n",
    "    print (pick,captain[pick])\n",
    "print (\"\\n\")\n",
    "\n",
    "for pick in goalkeepers : \n",
    "     print (pick,goalkeepers[pick])"
   ]
  },
  {
   "cell_type": "code",
   "execution_count": null,
   "id": "ca8fd2fc",
   "metadata": {},
   "outputs": [],
   "source": []
  }
 ],
 "metadata": {
  "kernelspec": {
   "display_name": "Python 3 (ipykernel)",
   "language": "python",
   "name": "python3"
  },
  "language_info": {
   "codemirror_mode": {
    "name": "ipython",
    "version": 3
   },
   "file_extension": ".py",
   "mimetype": "text/x-python",
   "name": "python",
   "nbconvert_exporter": "python",
   "pygments_lexer": "ipython3",
   "version": "3.10.9"
  }
 },
 "nbformat": 4,
 "nbformat_minor": 5
}
