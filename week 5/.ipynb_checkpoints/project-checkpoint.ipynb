{
 "cells": [
  {
   "cell_type": "code",
   "execution_count": 1,
   "id": "e0b9b110",
   "metadata": {},
   "outputs": [
    {
     "name": "stdout",
     "output_type": "stream",
     "text": [
      "   Name      |  Age | Height | Score\n",
      "--------------------------------------\n",
      "  Samantha   |  17  |  5.5   |  80\n",
      "  Jada       |  16  |  6.0   |  85\n",
      "  Jane       |  17  |  5.4   |  70\n",
      "  Claire     |  18  |  5.9   |  60\n",
      "  Elizabeth  |  16  |  5.6   |  76\n",
      "  Mary       |  18  |  5.5   |  66\n",
      "  Susan      |  17  |  6.1   |  87\n",
      "  Waje       |  20  |  6.0   |  95\n",
      "  Taibat     |  19  |  5.7   |  50\n",
      "  Lilian     |  17  |  5.5   |  49\n",
      "  Charles    |  19  |  5.5   |  74\n",
      "  Jude       |  16  |  6.0   |  87\n",
      "  James      |  18  |  5.4   |  75\n",
      "  Kelvin     |  17  |  5.9   |  68\n",
      "  Biodun     |  20  |  5.6   |  66\n",
      "  Wale       |  19  |  5.5   |  78\n",
      "  Kunle      |  16  |  6.1   |  87\n",
      "  Matthew    |  18  |  6.0   |  98\n",
      "  Tom        |  17  |  5.7   |  54\n",
      "  Kayode     |  19  |  5.5   |  60\n"
     ]
    }
   ],
   "source": [
    "girls = ['Samantha  ', 'Jada      ', 'Jane      ', 'Claire    ', 'Elizabeth ',\n",
    "         'Mary      ','Susan     ', 'Waje      ', 'Taibat    ', 'Lilian    ']\n",
    "girls_ages = [ 17 , 16 , 17, 18, 16, 18, 17, 20, 19, 17]\n",
    "girls_height = [5.5, 6.0, 5.4, 5.9, 5.6, 5.5, 6.1, 6.0, 5.7, 5.5]\n",
    "girls_scores = [80, 85, 70, 60, 76, 66, 87, 95, 50, 49]\n",
    "\n",
    "boys = [\"Charles   \", \"Jude      \", \"James     \", \"Kelvin    \", \"Biodun    \",\n",
    "        \"Wale      \", \"Kunle     \", \"Matthew   \", \"Tom       \", \"Kayode    \"]\n",
    "boys_ages = [19, 16, 18, 17, 20, 19, 16, 18, 17, 19]\n",
    "boys_height = [5.5, 6.0, 5.4, 5.9, 5.6, 5.5, 6.1, 6.0, 5.7, 5.5]\n",
    "boys_scores = [74, 87, 75, 68, 66, 78, 87, 98, 54, 60]\n",
    "\n",
    "print (\"   Name      |  Age | Height | Score\")\n",
    "print(\"--------------------------------------\")\n",
    "\n",
    "for i in range(len(girls)) : \n",
    "    print (\" \",girls[i],\"| \",girls_ages[i],\" | \",girls_height[i],\"  | \",girls_scores[i])\n",
    "for i in range(len(boys)) : \n",
    "    print (\" \",boys[i],\"| \",boys_ages[i],\" | \",boys_height[i],\"  | \",boys_scores[i])"
   ]
  },
  {
   "cell_type": "code",
   "execution_count": 2,
   "id": "857a0737",
   "metadata": {},
   "outputs": [
    {
     "name": "stdout",
     "output_type": "stream",
     "text": [
      "Enter your age: 19\n",
      "Enter your years of experience: 4\n",
      "Your Annual Tax Revenue is N550,000.\n"
     ]
    }
   ],
   "source": [
    "staff_age = int(input(\"Enter your age: \"))\n",
    "staff_experience = int(input(\"Enter your years of experience: \"))\n",
    "\n",
    "if staff_age  >= 55 and staff_experience >= 25:\n",
    "    print(\"Your Annual Tax Revenue is N5,600,000.\")\n",
    "    \n",
    "elif staff_age >= 45 and staff_experience >= 20:\n",
    "    print(\"Your Annual Tax Revenue is N4,800,000.\")\n",
    "    \n",
    "elif staff_age >= 35 and staff_experience >= 10:\n",
    "    print(\"Your Annual Tax Revenue is N1,500,000.\")\n",
    "    \n",
    "else:\n",
    "    print(\"Your Annual Tax Revenue is N550,000.\")    "
   ]
  },
  {
   "cell_type": "code",
   "execution_count": null,
   "id": "b6c54840",
   "metadata": {},
   "outputs": [],
   "source": []
  }
 ],
 "metadata": {
  "kernelspec": {
   "display_name": "Python 3 (ipykernel)",
   "language": "python",
   "name": "python3"
  },
  "language_info": {
   "codemirror_mode": {
    "name": "ipython",
    "version": 3
   },
   "file_extension": ".py",
   "mimetype": "text/x-python",
   "name": "python",
   "nbconvert_exporter": "python",
   "pygments_lexer": "ipython3",
   "version": "3.10.9"
  }
 },
 "nbformat": 4,
 "nbformat_minor": 5
}
