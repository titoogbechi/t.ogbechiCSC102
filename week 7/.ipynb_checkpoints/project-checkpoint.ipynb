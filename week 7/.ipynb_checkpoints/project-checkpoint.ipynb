{
 "cells": [
  {
   "cell_type": "code",
   "execution_count": 1,
   "id": "1eb7d713",
   "metadata": {},
   "outputs": [
    {
     "name": "stdout",
     "output_type": "stream",
     "text": [
      "Employee verification system\n",
      "Please input your first name: Tito\n",
      "Please input your surname in : Ogbechi\n",
      "Please input your department: Computer science\n",
      "There is no employee named Tito OGBECHI in the Computer science department.\n"
     ]
    }
   ],
   "source": [
    "import pandas as pd\n",
    "\n",
    "print(\"Employee verification system\")\n",
    "firstname = input(\"Please input your first name: \")\n",
    "lastname = input(\"Please input your surname in : \").upper()\n",
    "dept = input (\"Please input your department: \")\n",
    "\n",
    "def employee_info(firstname, lastname, dept):\n",
    "    data = pd.read_csv(\"jt-ventures.csv\")\n",
    "    if ((data['FIRST NAME'] == firstname) & (data['SURNAME'] == lastname) & (data['DEPARTMENT'] == dept)).any():\n",
    "        print(f'Welcome {firstname} {lastname} to the program! The Company Profile is displayed below.')\n",
    "        data = pd.read_csv(\"jt-ventures.csv\")\n",
    "        print(data)\n",
    "    else:\n",
    "        print(f'There is no employee named {firstname} {lastname} in the {dept} department.') \n",
    "    return\n",
    "\n",
    "employee_info(firstname, lastname, dept)"
   ]
  },
  {
   "cell_type": "code",
   "execution_count": 5,
   "id": "7ea23547",
   "metadata": {},
   "outputs": [
    {
     "name": "stdout",
     "output_type": "stream",
     "text": [
      "Welcome to Yeba Services\n",
      "How much does your package weigh in Kg:77\n",
      "Where do you want this package to be delivered?: Epe\n",
      "Your fee is N5,000\n"
     ]
    }
   ],
   "source": [
    "print(\"Welcome to Yeba Services\")\n",
    "weight = int(input(\"How much does your package weigh in Kg:\"))\n",
    "location = str(input(\"Where do you want this package to be delivered?: \"))\n",
    "\n",
    "def delivery_data(a,b):\n",
    "    \n",
    "    if a >= 10 and b == 'Ibeju-Lekki':\n",
    "            print(\"Your fee is N2,000\")\n",
    "    \n",
    "    elif a < 10 and b == 'Ibeju-Lekki':\n",
    "        print(\"Your fee is N1,500\")\n",
    "        \n",
    "    if a >= 10 and b == 'Epe':\n",
    "        print(\"Your fee is N5,000\")\n",
    "    \n",
    "    elif a < 10 and b == 'Epe':\n",
    "        print(\"Your fee is N4,000\")\n",
    "    else : print(\"Inavlid input\")\n",
    "    return\n",
    "delivery_data(weight,location)"
   ]
  },
  {
   "cell_type": "code",
   "execution_count": 7,
   "id": "8b537614",
   "metadata": {},
   "outputs": [
    {
     "name": "stdout",
     "output_type": "stream",
     "text": [
      "Enter your name: samuel\n",
      "Enter JAMB score: 160\n",
      "Enter Your chosen course Computer Science(c) or Mass Communication(m): m\n",
      "Enter your number of credits: 3\n",
      "Did you pass the interview ?  no\n",
      "\n",
      "You will not be admitted as a Mass Communication undergraduate\n"
     ]
    }
   ],
   "source": [
    "import pandas as pd\n",
    "name = input(\"Enter your name: \")\n",
    "score = int(input(\"Enter JAMB score: \"))\n",
    "course = input(\"Enter Your chosen course Computer Science(c) or Mass Communication(m): \").lower()\n",
    "credits = int(input(\"Enter your number of credits: \"))\n",
    "interview = input(\"Did you pass the interview ?  \").lower()\n",
    "\n",
    "\n",
    "\n",
    "def cs_admissions(name, score, course, credits, interview):\n",
    "    if (course == \"c\") & (score >= 230) & (credits >= 5) & (interview == \"yes\"):\n",
    "        print(\"You have been admitted as a Computer Science undergraduate\")\n",
    "        record = {\"Name\" : [name], \"Course\" : [\"Computer Science\"], \"Score\" : [score] , \"Credits\" : [credits], \"Interview\" : [\"Passed\"]}\n",
    "        df = pd.DataFrame(record)\n",
    "        df.to_csv('admitted.csv')\n",
    "        \n",
    "    else : \n",
    "        print(\"You have been admitted as a Computer Science undergraduate\")\n",
    "        record = {\"Name\" : [name], \"Course\" : [\"Computer Science\"], \"Score\" : [score] , \"Credits\" : [credits], \"Interview\" : [\"Passed\"]}\n",
    "        df = pd.DataFrame(record)\n",
    "        df.to_csv('not-admitted.csv')\n",
    "        return\n",
    "    \n",
    "def mc_admissions(name, score, course, credits, interview):       \n",
    "    if (course == \"c\") & (score >= 230) & (credits >= 5) & (interview == \"yes\"):\n",
    "        print(\"You have been admitted as a Mass Communication undergraduate\")\n",
    "        record = {\"Name\" : [name], \"Course\" : [\"Mass Communication\"], \"Score\" : [score] , \"Credits\" : [credits], \"Interview\" : [\"Failed\"]}\n",
    "        df = pd.DataFrame(record)\n",
    "        df.to_csv('admitted.csv')\n",
    "    else  :\n",
    "        print(\"\\nYou will not be admitted as a Mass Communication undergraduate\")\n",
    "        record = {\"Name\" : [name], \"Course\" : [\"Mass Communication\"], \"Score\" : [score] , \"Credits\" : [credits], \"Interview\" : [\"Failed\"]}\n",
    "        df = pd.DataFrame(record)\n",
    "        df.to_csv('not-admitted.csv')\n",
    "        return\n",
    "    \n",
    "if course == \"c\" :\n",
    "    cs_admissions(name, score, course, credits, interview)    \n",
    "elif course == \"m\" :\n",
    "    mc_admissions(name, score, course, credits, interview)\n",
    "else : print(\"Invalid Input\")\n",
    " "
   ]
  },
  {
   "cell_type": "code",
   "execution_count": null,
   "id": "19487655",
   "metadata": {},
   "outputs": [],
   "source": []
  }
 ],
 "metadata": {
  "kernelspec": {
   "display_name": "Python 3 (ipykernel)",
   "language": "python",
   "name": "python3"
  },
  "language_info": {
   "codemirror_mode": {
    "name": "ipython",
    "version": 3
   },
   "file_extension": ".py",
   "mimetype": "text/x-python",
   "name": "python",
   "nbconvert_exporter": "python",
   "pygments_lexer": "ipython3",
   "version": "3.10.9"
  }
 },
 "nbformat": 4,
 "nbformat_minor": 5
}
